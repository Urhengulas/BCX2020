{
 "cells": [
  {
   "cell_type": "markdown",
   "metadata": {},
   "source": [
    "# energie production data – 50 Herz"
   ]
  },
  {
   "cell_type": "code",
   "execution_count": null,
   "metadata": {},
   "outputs": [],
   "source": [
    "import pandas as pd"
   ]
  },
  {
   "cell_type": "markdown",
   "metadata": {},
   "source": [
    "## get raw data"
   ]
  },
  {
   "cell_type": "code",
   "execution_count": null,
   "metadata": {},
   "outputs": [],
   "source": [
    "def convert_to_int(x_str):\n",
    "    # print(x_str)\n",
    "    a = x_str.split(\".\")\n",
    "    a.extend(a.pop(-1).split(\",\"))\n",
    "    if len(a) == 1:\n",
    "        return int(a[0])\n",
    "    if len(a) == 2:\n",
    "        return int(a[0])+float(f\"0.{a[-1]}\")\n",
    "    else:\n",
    "        return int(a[0])*1000+int(a[1])+float(f\"0.{a[-1]}\")"
   ]
  },
  {
   "cell_type": "code",
   "execution_count": null,
   "metadata": {},
   "outputs": [],
   "source": [
    "# read data\n",
    "df_net = pd.read_csv(\n",
    "    \"../data/Netzeinspeisung_2019.csv\", \n",
    "    sep=\";\",\n",
    "    skiprows=4\n",
    ").dropna(axis=1)\n",
    "# convert data\n",
    "df_net[\"MW\"] = df_net[\"MW\"].apply(lambda x: x*1000)"
   ]
  },
  {
   "cell_type": "code",
   "execution_count": null,
   "metadata": {},
   "outputs": [],
   "source": [
    "# read data\n",
    "df_sol = pd.read_csv(\n",
    "    \"../data/Solarenergie_Prognose_2019.csv\", \n",
    "    sep=\";\",\n",
    "    skiprows=4\n",
    ").dropna(axis=1)\n",
    "# convert data\n",
    "df_sol[\"MW\"] = df_sol[\"MW\"].apply(convert_to_int)"
   ]
  },
  {
   "cell_type": "code",
   "execution_count": null,
   "metadata": {},
   "outputs": [],
   "source": [
    "# read data\n",
    "df_win = pd.read_csv(\n",
    "    \"../data/Windenergie_Prognose_2019.csv\", \n",
    "    sep=\";\",\n",
    "    skiprows=4\n",
    ").dropna(axis=1)\n",
    "# convert data\n",
    "df_win = df_win.drop([\"Onshore MW\", \"Offshore MW\"], axis=1)\n",
    "df_win[\"MW\"] = df_win[\"MW\"].apply(convert_to_int)"
   ]
  },
  {
   "cell_type": "markdown",
   "metadata": {},
   "source": [
    "## combine data"
   ]
  },
  {
   "cell_type": "code",
   "execution_count": null,
   "metadata": {},
   "outputs": [],
   "source": [
    "df_comb = df_net\n",
    "df_comb[\"MW_sol\"] = df_sol[\"MW\"]\n",
    "df_comb[\"MW_win\"] = df_win[\"MW\"]"
   ]
  },
  {
   "cell_type": "code",
   "execution_count": null,
   "metadata": {},
   "outputs": [],
   "source": [
    "df_comb[\"%\"] = 100 * (df_comb[\"MW_win\"] + df_comb[\"MW_sol\"]) / df_comb[\"MW\"]"
   ]
  },
  {
   "cell_type": "markdown",
   "metadata": {},
   "source": [
    "## convert datetime"
   ]
  },
  {
   "cell_type": "code",
   "execution_count": null,
   "metadata": {},
   "outputs": [],
   "source": [
    "raw_date = df_comb['Datum'] + ' ' + df_comb['Von']\n",
    "date = pd.to_datetime(raw_date, errors='coerce')\n",
    "df_comb[\"datelabel\"] = date"
   ]
  },
  {
   "cell_type": "markdown",
   "metadata": {},
   "source": [
    "## drop date, von and bis columns"
   ]
  },
  {
   "cell_type": "code",
   "execution_count": null,
   "metadata": {},
   "outputs": [],
   "source": [
    "df_comb = df_comb.drop(['Datum', 'Von', 'bis'], axis=1)"
   ]
  },
  {
   "cell_type": "markdown",
   "metadata": {},
   "source": [
    "### problem: 101%\n",
    "For some points in time the % seems to be more than 100%, which should not be possible. It happens in 3.125% of the cases. <br>\n",
    "We couldn't figure out the problem, so we just round it down to `100.0`..."
   ]
  },
  {
   "cell_type": "code",
   "execution_count": null,
   "metadata": {},
   "outputs": [],
   "source": [
    "# display problematic rows\n",
    "df_comb.where(df_comb[\"%\"] > 100.0).dropna().sample(3)"
   ]
  },
  {
   "cell_type": "code",
   "execution_count": null,
   "metadata": {},
   "outputs": [],
   "source": [
    "# cap values at 100.0%\n",
    "df_comb[\"%\"] = df_comb[\"%\"].apply(lambda x: 100.0 if x > 100.0 else x)"
   ]
  },
  {
   "cell_type": "code",
   "execution_count": null,
   "metadata": {
    "scrolled": false
   },
   "outputs": [],
   "source": [
    "df_comb.sample(5)"
   ]
  },
  {
   "cell_type": "markdown",
   "metadata": {},
   "source": [
    "## export relevant data"
   ]
  },
  {
   "cell_type": "code",
   "execution_count": null,
   "metadata": {},
   "outputs": [],
   "source": [
    "df.to_csv(\n",
    "    \"../data/renewData.csv\", \n",
    "    sep=\";\", \n",
    "    index=False,\n",
    "    columns=[\"datelabel\", \"%\"]\n",
    ")"
   ]
  },
  {
   "cell_type": "markdown",
   "metadata": {},
   "source": [
    "## vizualisations"
   ]
  },
  {
   "cell_type": "code",
   "execution_count": null,
   "metadata": {},
   "outputs": [],
   "source": [
    "import plotly\n",
    "import plotly.graph_objects as go\n",
    "import plotly.express as px\n",
    "\n",
    "plotly.offline.init_notebook_mode(connected=True)"
   ]
  },
  {
   "cell_type": "code",
   "execution_count": null,
   "metadata": {},
   "outputs": [],
   "source": [
    "fig = px.bar(df_comb, x='datelabel', y='%')\n",
    "fig.show()"
   ]
  }
 ],
 "metadata": {
  "kernelspec": {
   "display_name": "Python 3",
   "language": "python",
   "name": "python3"
  },
  "language_info": {
   "codemirror_mode": {
    "name": "ipython",
    "version": 3
   },
   "file_extension": ".py",
   "mimetype": "text/x-python",
   "name": "python",
   "nbconvert_exporter": "python",
   "pygments_lexer": "ipython3",
   "version": "3.7.5"
  }
 },
 "nbformat": 4,
 "nbformat_minor": 4
}
