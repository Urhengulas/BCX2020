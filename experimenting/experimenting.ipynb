{
 "cells": [
  {
   "cell_type": "code",
   "execution_count": 1,
   "metadata": {},
   "outputs": [],
   "source": [
    "import pandas as pd"
   ]
  },
  {
   "cell_type": "code",
   "execution_count": 2,
   "metadata": {},
   "outputs": [],
   "source": [
    "def convert_to_int(x_str):\n",
    "    # print(x_str)\n",
    "    a = x_str.split(\".\")\n",
    "    a.extend(a.pop(-1).split(\",\"))\n",
    "    if len(a) == 1:\n",
    "        return int(a[0])\n",
    "    if len(a) == 2:\n",
    "        return int(a[0])+float(f\"0.{a[-1]}\")\n",
    "    else:\n",
    "        return int(a[0])*1000+int(a[1])+float(f\"0.{a[-1]}\")"
   ]
  },
  {
   "cell_type": "code",
   "execution_count": 3,
   "metadata": {},
   "outputs": [],
   "source": [
    "df_net = pd.read_csv(\n",
    "    \"../data/Netzeinspeisung_2019.csv\", \n",
    "    sep=\";\",\n",
    "    skiprows=4\n",
    ").dropna(axis=1)\n",
    "df_net[\"MW\"] = df_net[\"MW\"].apply(lambda x: x*1000)"
   ]
  },
  {
   "cell_type": "code",
   "execution_count": 4,
   "metadata": {},
   "outputs": [],
   "source": [
    "df_sol = pd.read_csv(\n",
    "    \"../data/Solarenergie_Prognose_2019.csv\", \n",
    "    sep=\";\",\n",
    "    skiprows=4\n",
    ").dropna(axis=1)\n",
    "df_sol[\"MW\"] = df_sol[\"MW\"].apply(convert_to_int)"
   ]
  },
  {
   "cell_type": "code",
   "execution_count": 5,
   "metadata": {},
   "outputs": [],
   "source": [
    "df_win = pd.read_csv(\n",
    "    \"../data/Windenergie_Prognose_2019.csv\", \n",
    "    sep=\";\",\n",
    "    skiprows=4\n",
    ").dropna(axis=1)\n",
    "df_win = df_win.drop([\"Onshore MW\", \"Offshore MW\"], axis=1)\n",
    "df_win[\"MW\"] = df_win[\"MW\"].apply(convert_to_int)"
   ]
  },
  {
   "cell_type": "code",
   "execution_count": 6,
   "metadata": {},
   "outputs": [],
   "source": [
    "df_comb = df_net\n",
    "df_comb[\"MW_sol\"] = df_sol[\"MW\"]\n",
    "df_comb[\"MW_win\"] = df_win[\"MW\"]"
   ]
  },
  {
   "cell_type": "code",
   "execution_count": 7,
   "metadata": {},
   "outputs": [],
   "source": [
    "df_comb[\"%\"] = (df_comb[\"MW_win\"] + df_comb[\"MW_sol\"]) / df_comb[\"MW\"]"
   ]
  },
  {
   "cell_type": "markdown",
   "metadata": {},
   "source": [
    "## problem: 101%\n",
    "For some points in time the % seems to be more than 100%, which should not be possible. It happens in 3.125% of the cases. <br>\n",
    "We couldn't figure out the problem, so we just ignore for the moment..."
   ]
  },
  {
   "cell_type": "code",
   "execution_count": 8,
   "metadata": {},
   "outputs": [
    {
     "data": {
      "text/html": [
       "<div>\n",
       "<style scoped>\n",
       "    .dataframe tbody tr th:only-of-type {\n",
       "        vertical-align: middle;\n",
       "    }\n",
       "\n",
       "    .dataframe tbody tr th {\n",
       "        vertical-align: top;\n",
       "    }\n",
       "\n",
       "    .dataframe thead th {\n",
       "        text-align: right;\n",
       "    }\n",
       "</style>\n",
       "<table border=\"1\" class=\"dataframe\">\n",
       "  <thead>\n",
       "    <tr style=\"text-align: right;\">\n",
       "      <th></th>\n",
       "      <th>Datum</th>\n",
       "      <th>Von</th>\n",
       "      <th>bis</th>\n",
       "      <th>MW</th>\n",
       "      <th>MW_sol</th>\n",
       "      <th>MW_win</th>\n",
       "      <th>%</th>\n",
       "    </tr>\n",
       "  </thead>\n",
       "  <tbody>\n",
       "    <tr>\n",
       "      <th>37</th>\n",
       "      <td>01.01.2019</td>\n",
       "      <td>09:15</td>\n",
       "      <td>09:30</td>\n",
       "      <td>13968.0</td>\n",
       "      <td>118.464</td>\n",
       "      <td>13971.368</td>\n",
       "      <td>1.008722</td>\n",
       "    </tr>\n",
       "    <tr>\n",
       "      <th>38</th>\n",
       "      <td>01.01.2019</td>\n",
       "      <td>09:30</td>\n",
       "      <td>09:45</td>\n",
       "      <td>13937.0</td>\n",
       "      <td>166.057</td>\n",
       "      <td>14020.830</td>\n",
       "      <td>1.017930</td>\n",
       "    </tr>\n",
       "    <tr>\n",
       "      <th>39</th>\n",
       "      <td>01.01.2019</td>\n",
       "      <td>09:45</td>\n",
       "      <td>10:00</td>\n",
       "      <td>13944.0</td>\n",
       "      <td>216.277</td>\n",
       "      <td>14054.078</td>\n",
       "      <td>1.023405</td>\n",
       "    </tr>\n",
       "    <tr>\n",
       "      <th>40</th>\n",
       "      <td>01.01.2019</td>\n",
       "      <td>10:00</td>\n",
       "      <td>10:15</td>\n",
       "      <td>14110.0</td>\n",
       "      <td>270.314</td>\n",
       "      <td>14084.599</td>\n",
       "      <td>1.017357</td>\n",
       "    </tr>\n",
       "    <tr>\n",
       "      <th>41</th>\n",
       "      <td>01.01.2019</td>\n",
       "      <td>10:15</td>\n",
       "      <td>10:30</td>\n",
       "      <td>14056.0</td>\n",
       "      <td>319.318</td>\n",
       "      <td>14055.328</td>\n",
       "      <td>1.022670</td>\n",
       "    </tr>\n",
       "    <tr>\n",
       "      <th>...</th>\n",
       "      <td>...</td>\n",
       "      <td>...</td>\n",
       "      <td>...</td>\n",
       "      <td>...</td>\n",
       "      <td>...</td>\n",
       "      <td>...</td>\n",
       "      <td>...</td>\n",
       "    </tr>\n",
       "    <tr>\n",
       "      <th>33462</th>\n",
       "      <td>15.12.2019</td>\n",
       "      <td>13:30</td>\n",
       "      <td>13:45</td>\n",
       "      <td>13150.0</td>\n",
       "      <td>1068.541</td>\n",
       "      <td>12888.052</td>\n",
       "      <td>1.061338</td>\n",
       "    </tr>\n",
       "    <tr>\n",
       "      <th>33463</th>\n",
       "      <td>15.12.2019</td>\n",
       "      <td>13:45</td>\n",
       "      <td>14:00</td>\n",
       "      <td>13055.0</td>\n",
       "      <td>968.139</td>\n",
       "      <td>12709.125</td>\n",
       "      <td>1.047665</td>\n",
       "    </tr>\n",
       "    <tr>\n",
       "      <th>33464</th>\n",
       "      <td>15.12.2019</td>\n",
       "      <td>14:00</td>\n",
       "      <td>14:15</td>\n",
       "      <td>13077.0</td>\n",
       "      <td>855.921</td>\n",
       "      <td>12521.510</td>\n",
       "      <td>1.022974</td>\n",
       "    </tr>\n",
       "    <tr>\n",
       "      <th>33465</th>\n",
       "      <td>15.12.2019</td>\n",
       "      <td>14:15</td>\n",
       "      <td>14:30</td>\n",
       "      <td>12877.0</td>\n",
       "      <td>757.802</td>\n",
       "      <td>12413.655</td>\n",
       "      <td>1.022867</td>\n",
       "    </tr>\n",
       "    <tr>\n",
       "      <th>33466</th>\n",
       "      <td>15.12.2019</td>\n",
       "      <td>14:30</td>\n",
       "      <td>14:45</td>\n",
       "      <td>12820.0</td>\n",
       "      <td>609.809</td>\n",
       "      <td>12298.164</td>\n",
       "      <td>1.006862</td>\n",
       "    </tr>\n",
       "  </tbody>\n",
       "</table>\n",
       "<p>1095 rows × 7 columns</p>\n",
       "</div>"
      ],
      "text/plain": [
       "            Datum    Von    bis       MW    MW_sol     MW_win         %\n",
       "37     01.01.2019  09:15  09:30  13968.0   118.464  13971.368  1.008722\n",
       "38     01.01.2019  09:30  09:45  13937.0   166.057  14020.830  1.017930\n",
       "39     01.01.2019  09:45  10:00  13944.0   216.277  14054.078  1.023405\n",
       "40     01.01.2019  10:00  10:15  14110.0   270.314  14084.599  1.017357\n",
       "41     01.01.2019  10:15  10:30  14056.0   319.318  14055.328  1.022670\n",
       "...           ...    ...    ...      ...       ...        ...       ...\n",
       "33462  15.12.2019  13:30  13:45  13150.0  1068.541  12888.052  1.061338\n",
       "33463  15.12.2019  13:45  14:00  13055.0   968.139  12709.125  1.047665\n",
       "33464  15.12.2019  14:00  14:15  13077.0   855.921  12521.510  1.022974\n",
       "33465  15.12.2019  14:15  14:30  12877.0   757.802  12413.655  1.022867\n",
       "33466  15.12.2019  14:30  14:45  12820.0   609.809  12298.164  1.006862\n",
       "\n",
       "[1095 rows x 7 columns]"
      ]
     },
     "execution_count": 8,
     "metadata": {},
     "output_type": "execute_result"
    }
   ],
   "source": [
    "df_comb.where(df_comb[\"%\"] >= 1.0).dropna()"
   ]
  },
  {
   "cell_type": "code",
   "execution_count": 9,
   "metadata": {},
   "outputs": [],
   "source": [
    "import plotly.graph_objects as go"
   ]
  },
  {
   "cell_type": "code",
   "execution_count": null,
   "metadata": {},
   "outputs": [],
   "source": []
  }
 ],
 "metadata": {
  "kernelspec": {
   "display_name": "Python 3",
   "language": "python",
   "name": "python3"
  },
  "language_info": {
   "codemirror_mode": {
    "name": "ipython",
    "version": 3
   },
   "file_extension": ".py",
   "mimetype": "text/x-python",
   "name": "python",
   "nbconvert_exporter": "python",
   "pygments_lexer": "ipython3",
   "version": "3.7.5"
  }
 },
 "nbformat": 4,
 "nbformat_minor": 4
}
